{
 "cells": [
  {
   "cell_type": "markdown",
   "metadata": {},
   "source": [
    "# War Game"
   ]
  },
  {
   "cell_type": "code",
   "execution_count": 4,
   "metadata": {},
   "outputs": [],
   "source": [
    "import numpy as np"
   ]
  },
  {
   "cell_type": "markdown",
   "metadata": {},
   "source": [
    "## Exercise #1"
   ]
  },
  {
   "cell_type": "markdown",
   "metadata": {},
   "source": [
    "Step 1.1: Write (and execute) a statement that will generate a list of values associated with a standard deck of playing cards. You do not need to differentiate between suits (i.e., diamonds, hearts, clubs, spades), as they have no relevance for this particular game. The \"deck\" should have four 1's, four 2's, .... , four 11's (Jacks), and so on."
   ]
  },
  {
   "cell_type": "code",
   "execution_count": 3,
   "metadata": {},
   "outputs": [
    {
     "name": "stdout",
     "output_type": "stream",
     "text": [
      "[1, 2, 3, 4, 5, 6, 7, 8, 9, 10, 11, 12, 13, 1, 2, 3, 4, 5, 6, 7, 8, 9, 10, 11, 12, 13, 1, 2, 3, 4, 5, 6, 7, 8, 9, 10, 11, 12, 13, 1, 2, 3, 4, 5, 6, 7, 8, 9, 10, 11, 12, 13]\n"
     ]
    }
   ],
   "source": [
    "# Initialize deck\n",
    "deck = list(range(1, 14)) * 4\n",
    "print(deck)"
   ]
  },
  {
   "cell_type": "markdown",
   "metadata": {},
   "source": [
    "Step 1.2: Report the total value associated with a full deck of cards, which represents the maximum total for a game."
   ]
  },
  {
   "cell_type": "code",
   "execution_count": 5,
   "metadata": {},
   "outputs": [
    {
     "data": {
      "text/plain": [
       "364"
      ]
     },
     "execution_count": 5,
     "metadata": {},
     "output_type": "execute_result"
    }
   ],
   "source": [
    "# Total points\n",
    "sum(deck)"
   ]
  },
  {
   "cell_type": "markdown",
   "metadata": {},
   "source": [
    "## Exercise #2"
   ]
  },
  {
   "cell_type": "markdown",
   "metadata": {},
   "source": [
    "Step 2.1: Define a function deal that will shuffle (randomize) and distribute the 52 playing cards evenly to two players (26 each) and return a tuple of each player's hand (as a list of values). The function does not need to take in any arguments, and should create the deck of values internally (i.e., you should not need to input the deck of values into the function; you may reuse the statement you developed for part a). You may assume that you are always playing with a standard deck (52 cards). You may make use of any NumPy functionality to perform the shuffle operation. Hint: check out this link for the functions available in np.random. "
   ]
  },
  {
   "cell_type": "code",
   "execution_count": 6,
   "metadata": {},
   "outputs": [],
   "source": [
    "# Define function to deal cards to two players\n",
    "def deal():\n",
    "    # Initialize player hands\n",
    "    p1 = []\n",
    "    p2 = []\n",
    "    \n",
    "    # Initialize and shuffle deck\n",
    "    deck = list(range(1, 14)) * 4\n",
    "    np.random.shuffle(deck)\n",
    "    \n",
    "    # Deal cards to each player\n",
    "    for i in range(len(deck)):\n",
    "        if i % 2:\n",
    "            p2.append(deck.pop(0))\n",
    "        else:\n",
    "            p1.append(deck.pop(0))\n",
    "            \n",
    "    return p1, p2"
   ]
  },
  {
   "cell_type": "markdown",
   "metadata": {},
   "source": [
    "Step 2.2: Deal a hand to two players and display (print) each player's hand. Print each player's number of cards and the total value of the hand."
   ]
  },
  {
   "cell_type": "code",
   "execution_count": 7,
   "metadata": {},
   "outputs": [
    {
     "name": "stdout",
     "output_type": "stream",
     "text": [
      "Player 1s hand: [8, 4, 1, 7, 6, 2, 1, 3, 2, 5, 3, 5, 13, 10, 9, 6, 1, 12, 11, 12, 11, 8, 4, 13, 11, 9] 26 177\n",
      "Player 2s hand: [10, 10, 12, 7, 5, 2, 13, 12, 7, 1, 10, 9, 13, 7, 3, 5, 11, 3, 8, 9, 8, 6, 6, 2, 4, 4] 26 187\n"
     ]
    }
   ],
   "source": [
    "p1, p2 = deal()\n",
    "print('Player 1s hand:', p1, len(p1), sum(p1))\n",
    "print('Player 2s hand:', p2, len(p2), sum(p2))"
   ]
  },
  {
   "cell_type": "markdown",
   "metadata": {},
   "source": [
    "## Exercise #3"
   ]
  },
  {
   "cell_type": "markdown",
   "metadata": {},
   "source": [
    "Step 3.1: In a markdown cell, write out the steps of what should occur in a game of Addition War. This will provide an outline for your code to follow. I have written the first and last two steps for you below. Be sure to include what happens in the case of a tie and what happens if the deck is exhausted in the middle of a tie. What is the maximum number of rounds that could be played in the game (occurs when there are no ties)?"
   ]
  },
  {
   "cell_type": "markdown",
   "metadata": {},
   "source": [
    "1. Shuffle deck.\n",
    "2. Deal half of deck to each player.\n",
    "3. Round begins. Each player plays two cards.\n",
    "4. If one player has a higher sum of their two cards than the other player, that player wins the roud and takes the other player's cards.\n",
    "5. If there is a tie, continue to play until someone wins and ends the round. If the deck runs out in the middle of breaking a tie, the game ends and cards are returned to the players.\n",
    "6. Game terminates after a maximum of 13 rounds (occurs when there are no ties) and the deck is exhausted.\n",
    "7. The player with the highest total card points (in their discard pile) wins the game."
   ]
  },
  {
   "cell_type": "markdown",
   "metadata": {},
   "source": [
    "Step 3.2: Define a function play that will simulate a single game of Addition War between two players. This function will have no arguments. As written above, note that you will need to account for rounds in which a given player wins outright (i.e., after the initial play of two cards) and for rounds in which one or more ties occur. You will also need to terminate the game appropriately (i.e., after each player has played all of their cards once)."
   ]
  },
  {
   "cell_type": "code",
   "execution_count": 8,
   "metadata": {},
   "outputs": [],
   "source": [
    "# Define function to play a single game\n",
    "def play():\n",
    "    # Deal cards to players, initialize claim lists\n",
    "    p1, p2 = deal()\n",
    "    p1_claim, p2_claim = [], []\n",
    "    \n",
    "    # Collect statistics\n",
    "    S = {}\n",
    "    \n",
    "    # Calculate initial statistics\n",
    "    S['initial_sums'] = (sum(p1), sum(p2))\n",
    "    \n",
    "    # Play!\n",
    "    k = 1 # round counter\n",
    "    i = 13 # maximum number of rounds\n",
    "    while i > 0:\n",
    "        # Print round\n",
    "        print('Round:', k)\n",
    "        \n",
    "        # Each player plays two cards\n",
    "        p1_play = [p1.pop(0), p1.pop(0)]\n",
    "        p2_play = [p2.pop(0), p2.pop(0)]\n",
    "        i -= 1\n",
    "        \n",
    "        # Check for tie, and process accordingly\n",
    "        if sum(p1_play) > sum(p2_play):\n",
    "            # Player 1 wins hand, append cards to claim list\n",
    "            p1_claim.extend(p1_play); p1_claim.extend(p2_play)\n",
    "            print('\\tPlayer 1 wins hand (%d over %d), collects' % (sum(p1_play), sum(p2_play)), sum(p1_play) + sum(p2_play))\n",
    "        elif sum(p2_play) > sum(p1_play):\n",
    "            # Player 2 wins hand, append cards\n",
    "            p2_claim.extend(p1_play); p2_claim.extend(p2_play)\n",
    "            print('\\tPlayer 2 wins hand (%d over %d), collects' % (sum(p2_play), sum(p1_play)), sum(p1_play) + sum(p2_play))\n",
    "        else:\n",
    "            # Tie - Continue to play two cards until a player wins\n",
    "            print('\\tTie:', sum(p1_play), 'vs.', sum(p2_play))\n",
    "            if i > 0:\n",
    "                while sum(p1_play[-2:]) == sum(p2_play[-2:]):\n",
    "                    p1_play.extend([p1.pop(0), p1.pop(0)])\n",
    "                    p2_play.extend([p2.pop(0), p2.pop(0)])\n",
    "                    i -= 1\n",
    "\n",
    "                    if sum(p1_play[-2:]) > sum(p2_play[-2:]):\n",
    "                        # Player 1 wins hand, append cards to claim list\n",
    "                        p1_claim.extend(p1_play); p1_claim.extend(p2_play)\n",
    "                        print('\\tPlayer 1 wins hand (%d over %d), collects' % (sum(p1_play[-2:]), sum(p2_play[-2:])), sum(p1_play) + sum(p2_play))\n",
    "                    elif sum(p2_play[-2:]) > sum(p1_play[-2:]):\n",
    "                        # Player 2 wins hand, append cards to claim list\n",
    "                        p2_claim.extend(p1_play); p2_claim.extend(p2_play)\n",
    "                        print('\\tPlayer 2 wins hand (%d over %d), collects' % (sum(p2_play[-2:]), sum(p1_play[-2:])), sum(p1_play) + sum(p2_play))\n",
    "                    else:\n",
    "                        print('\\t\\tAnother Tie:', sum(p1_play[-2:]), 'vs.', sum(p2_play[-2:]))\n",
    "\n",
    "                        # Check for whether game ends in a tie - return cards to respective players\n",
    "                        if i <= 0:\n",
    "                            p1_claim.extend(p1_play)\n",
    "                            p2_claim.extend(p2_play)\n",
    "                            break\n",
    "            else:\n",
    "                # Game ends in a tie - return cards to respective players\n",
    "                p1_claim.extend(p1_play)\n",
    "                p2_claim.extend(p2_play)\n",
    "                    \n",
    "        # Increment round\n",
    "        k += 1\n",
    "    \n",
    "    # Game over, compile results\n",
    "    S['final_sums'] = (sum(p1_claim), sum(p2_claim))\n",
    "    if S['final_sums'][0] != S['final_sums'][1]:\n",
    "        # One player wins\n",
    "        S['winner'] = 0 if S['final_sums'][0] > S['final_sums'][1] else 1\n",
    "        print('\\nPlayer %d wins:' % [1, 2][S['winner']], S['final_sums'][S['winner']], 'to', S['final_sums'][1 - S['winner']])\n",
    "    else:\n",
    "        # Game is tied\n",
    "        S['winner'] = -1\n",
    "        print('\\nTie Game: %d to %d' % (S['final_sums'][0], S['final_sums'][1]))\n",
    "    \n",
    "    # Return results\n",
    "    return S"
   ]
  },
  {
   "cell_type": "markdown",
   "metadata": {},
   "source": [
    "Step 3.3: From your play function, return the winner of the game and the card totals for the winner and loser. Print the result."
   ]
  },
  {
   "cell_type": "code",
   "execution_count": 9,
   "metadata": {},
   "outputs": [
    {
     "name": "stdout",
     "output_type": "stream",
     "text": [
      "(157, 207)\n",
      "Round: 1\n",
      "\tPlayer 2 wins hand (21 over 15), collects 36\n",
      "Round: 2\n",
      "\tPlayer 2 wins hand (17 over 14), collects 31\n",
      "Round: 3\n",
      "\tPlayer 2 wins hand (17 over 12), collects 29\n",
      "Round: 4\n",
      "\tPlayer 2 wins hand (26 over 9), collects 35\n",
      "Round: 5\n",
      "\tPlayer 1 wins hand (19 over 4), collects 23\n",
      "Round: 6\n",
      "\tPlayer 2 wins hand (15 over 8), collects 23\n",
      "Round: 7\n",
      "\tPlayer 2 wins hand (18 over 17), collects 35\n",
      "Round: 8\n",
      "\tPlayer 2 wins hand (19 over 12), collects 31\n",
      "Round: 9\n",
      "\tPlayer 2 wins hand (14 over 11), collects 25\n",
      "Round: 10\n",
      "\tPlayer 2 wins hand (12 over 7), collects 19\n",
      "Round: 11\n",
      "\tPlayer 2 wins hand (18 over 9), collects 27\n",
      "Round: 12\n",
      "\tPlayer 2 wins hand (20 over 12), collects 32\n",
      "Round: 13\n",
      "\tPlayer 1 wins hand (12 over 6), collects 18\n",
      "\n",
      "Player 2 wins: 323 to 41\n"
     ]
    },
    {
     "data": {
      "text/plain": [
       "{'initial_sums': (157, 207), 'final_sums': (41, 323), 'winner': 1}"
      ]
     },
     "execution_count": 9,
     "metadata": {},
     "output_type": "execute_result"
    }
   ],
   "source": [
    "# Play single game - No ties\n",
    "play()"
   ]
  },
  {
   "cell_type": "code",
   "execution_count": 8,
   "metadata": {},
   "outputs": [
    {
     "name": "stdout",
     "output_type": "stream",
     "text": [
      "Round: 1\n",
      "\tPlayer 1 wins hand (15 over 7), collects 22\n",
      "Round: 2\n",
      "\tPlayer 1 wins hand (21 over 20), collects 41\n",
      "Round: 3\n",
      "\tPlayer 2 wins hand (23 over 15), collects 38\n",
      "Round: 4\n",
      "\tPlayer 1 wins hand (14 over 4), collects 18\n",
      "Round: 5\n",
      "\tTie: 12 vs. 12\n",
      "\tPlayer 2 wins hand (17 over 13), collects 54\n",
      "Round: 6\n",
      "\tPlayer 2 wins hand (10 over 5), collects 15\n",
      "Round: 7\n",
      "\tPlayer 1 wins hand (15 over 10), collects 25\n",
      "Round: 8\n",
      "\tPlayer 2 wins hand (15 over 14), collects 29\n",
      "Round: 9\n",
      "\tPlayer 2 wins hand (22 over 6), collects 28\n",
      "Round: 10\n",
      "\tPlayer 1 wins hand (25 over 11), collects 36\n",
      "Round: 11\n",
      "\tPlayer 2 wins hand (19 over 6), collects 25\n",
      "Round: 12\n",
      "\tPlayer 2 wins hand (21 over 12), collects 33\n",
      "\n",
      "Player 2 wins: 222 to 142\n"
     ]
    },
    {
     "data": {
      "text/plain": [
       "{'final_sums': (142, 222), 'initial_sums': (173, 191), 'winner': 1}"
      ]
     },
     "execution_count": 8,
     "metadata": {},
     "output_type": "execute_result"
    }
   ],
   "source": [
    "# Play single game - At least one tie\n",
    "play()"
   ]
  },
  {
   "cell_type": "markdown",
   "metadata": {},
   "source": [
    "## Exercise #4"
   ]
  },
  {
   "cell_type": "markdown",
   "metadata": {},
   "source": [
    "Given your implemented game, let's perform some analysis of the gameplay. For brevity in your notebook, you may want to create a copy of your play function that does not include any (active) print statements to use for this part of the assignment.\n",
    "\n",
    "Set Up: Simulate n = 20 games of Addition War, and provide the following results and analysis (1 point each):"
   ]
  },
  {
   "cell_type": "code",
   "execution_count": 10,
   "metadata": {},
   "outputs": [],
   "source": [
    "# Re-define function to play a single game - No print statements\n",
    "def play():\n",
    "    # Deal cards to players, initialize claim lists\n",
    "    p1, p2 = deal()\n",
    "    p1_claim, p2_claim = [], []\n",
    "    \n",
    "    # Collect statistics\n",
    "    S = {}\n",
    "    \n",
    "    # Calculate initial statistics\n",
    "    S['initial_sums'] = (sum(p1), sum(p2))\n",
    "    \n",
    "    # Play!\n",
    "    k = 1 # round counter\n",
    "    i = 13 # maximum number of rounds\n",
    "    while i > 0:\n",
    "        # Each player plays two cards\n",
    "        p1_play = [p1.pop(0), p1.pop(0)]\n",
    "        p2_play = [p2.pop(0), p2.pop(0)]\n",
    "        i -= 1\n",
    "        \n",
    "        # Check for tie, and process accordingly\n",
    "        if sum(p1_play) > sum(p2_play):\n",
    "            # Player 1 wins hand, append cards to claim list\n",
    "            p1_claim.extend(p1_play); p1_claim.extend(p2_play)\n",
    "        elif sum(p2_play) > sum(p1_play):\n",
    "            # Player 2 wins hand, append cards\n",
    "            p2_claim.extend(p1_play); p2_claim.extend(p2_play)\n",
    "        else:\n",
    "            # Tie - Continue to play two cards until a player wins\n",
    "            if i > 0:\n",
    "                while sum(p1_play[-2:]) == sum(p2_play[-2:]):\n",
    "                    p1_play.extend([p1.pop(0), p1.pop(0)])\n",
    "                    p2_play.extend([p2.pop(0), p2.pop(0)])\n",
    "                    i -= 1\n",
    "\n",
    "                    if sum(p1_play[-2:]) > sum(p2_play[-2:]):\n",
    "                        # Player 1 wins hand, append cards to claim list\n",
    "                        p1_claim.extend(p1_play); p1_claim.extend(p2_play)\n",
    "                    elif sum(p2_play[-2:]) > sum(p1_play[-2:]):\n",
    "                        # Player 2 wins hand, append cards to claim list\n",
    "                        p2_claim.extend(p1_play); p2_claim.extend(p2_play)\n",
    "                    else:\n",
    "                        # Check for whether game ends in a tie - return cards to respective players\n",
    "                        if i <= 0:\n",
    "                            p1_claim.extend(p1_play)\n",
    "                            p2_claim.extend(p2_play)\n",
    "                            break\n",
    "            else:\n",
    "                # Game ends in a tie - return cards to respective players\n",
    "                p1_claim.extend(p1_play)\n",
    "                p2_claim.extend(p2_play)\n",
    "                    \n",
    "        # Increment round\n",
    "        k += 1\n",
    "    \n",
    "    # Game over, compile results\n",
    "    S['final_sums'] = (sum(p1_claim), sum(p2_claim))\n",
    "    if S['final_sums'][0] != S['final_sums'][1]:\n",
    "        # One player wins\n",
    "        S['winner'] = 0 if S['final_sums'][0] > S['final_sums'][1] else 1\n",
    "    else:\n",
    "        # Game is tied\n",
    "        S['winner'] = -1\n",
    "    \n",
    "    # Return results\n",
    "    return S"
   ]
  },
  {
   "cell_type": "code",
   "execution_count": 11,
   "metadata": {},
   "outputs": [],
   "source": [
    "# Play multiple games\n",
    "n = 20\n",
    "results = [play() for i in range(n)]"
   ]
  },
  {
   "cell_type": "markdown",
   "metadata": {},
   "source": [
    "Step 4.1: Extract the final scores for the winning and losing players, and produce descriptive statistics for each scenario, specifically the\n",
    "minimum, mean, and maximum totals after each game. What do you observe about the winning and losing totals?"
   ]
  },
  {
   "cell_type": "code",
   "execution_count": 12,
   "metadata": {},
   "outputs": [
    {
     "data": {
      "text/plain": [
       "(20, 20)"
      ]
     },
     "execution_count": 12,
     "metadata": {},
     "output_type": "execute_result"
    }
   ],
   "source": [
    "# Extract winner and loser scores\n",
    "win_scores = np.array([res['final_sums'][res['winner']] for res in results if res['winner'] != -1])\n",
    "lose_scores = np.array([res['final_sums'][1 - res['winner']] for res in results if res['winner'] != -1])\n",
    "#lose_scores = sum(deck) - win_scores # Alternative approach\n",
    "len(win_scores), len(lose_scores)"
   ]
  },
  {
   "cell_type": "code",
   "execution_count": 13,
   "metadata": {},
   "outputs": [
    {
     "name": "stdout",
     "output_type": "stream",
     "text": [
      "Minimum winning score: 188\n",
      "Mean winning score: 221.6\n",
      "Maximum winning score: 272\n"
     ]
    }
   ],
   "source": [
    "# Summarize winning scores\n",
    "print('Minimum winning score:', win_scores.min())\n",
    "print('Mean winning score:', win_scores.mean())\n",
    "print('Maximum winning score:', win_scores.max())"
   ]
  },
  {
   "cell_type": "code",
   "execution_count": 36,
   "metadata": {},
   "outputs": [
    {
     "name": "stdout",
     "output_type": "stream",
     "text": [
      "Minimum losing score: 89\n",
      "Mean losing score: 134.95\n",
      "Maximum losing score: 178\n"
     ]
    }
   ],
   "source": [
    "# Summarize losing scores\n",
    "print('Minimum losing score:', lose_scores.min())\n",
    "print('Mean losing score:', lose_scores.mean())\n",
    "print('Maximum losing score:', lose_scores.max())"
   ]
  },
  {
   "cell_type": "markdown",
   "metadata": {},
   "source": [
    "Step 4.2: What proportion of games resulted in a winner that had a lower initial total than their opponent? What was the lowest initial total to win a game (or conversely, the highest initial total to lose a game)?"
   ]
  },
  {
   "cell_type": "markdown",
   "metadata": {},
   "source": [
    "Based on these results, we see that a player who has a lower initial sum can win, and consequently, a player with a higher initial sum can lose. In total, 15% of the games resulted with a player winning who had a lower initial score."
   ]
  },
  {
   "cell_type": "code",
   "execution_count": 37,
   "metadata": {},
   "outputs": [
    {
     "data": {
      "text/plain": [
       "173"
      ]
     },
     "execution_count": 37,
     "metadata": {},
     "output_type": "execute_result"
    }
   ],
   "source": [
    "# Lowest initial sum to win\n",
    "win_init = np.array([res['initial_sums'][res['winner']] for res in results])\n",
    "win_init.min()"
   ]
  },
  {
   "cell_type": "code",
   "execution_count": 38,
   "metadata": {},
   "outputs": [
    {
     "data": {
      "text/plain": [
       "191"
      ]
     },
     "execution_count": 38,
     "metadata": {},
     "output_type": "execute_result"
    }
   ],
   "source": [
    "# Highest initial sum to lose\n",
    "lose_init = np.array([res['initial_sums'][1 - res['winner']] for res in results])\n",
    "lose_init.max()"
   ]
  },
  {
   "cell_type": "code",
   "execution_count": 39,
   "metadata": {},
   "outputs": [
    {
     "data": {
      "text/plain": [
       "0.14999999999999999"
      ]
     },
     "execution_count": 39,
     "metadata": {},
     "output_type": "execute_result"
    }
   ],
   "source": [
    "# Proportion of games in which the player with the lower initial total won\n",
    "sum(win_init < lose_init) / n # array comparison, produces Boolean values that we can sum to determine the true outcomes"
   ]
  },
  {
   "cell_type": "markdown",
   "metadata": {},
   "source": [
    "Step 4.3: Calculate the (linear) correlation between the initial and final totals for winners vs. losers? What do you observe about the respective correlations, and what do these correlations tell you about the relationship between the initial and final totals?"
   ]
  },
  {
   "cell_type": "markdown",
   "metadata": {},
   "source": [
    "We observe that the correlation between the initial and final sum for winners and losers is the same, as we would expect given this is a zero-sum game. The correlation is positive and moderately strong, which means that players who are dealt higher initial sums are more likely to end the game with a higher final sum (and vice versa). However, this correlation is not too close to 1, meaning that there is some variation in the behavior between initial and final sums. Given this variation, some players with (slightly) lower initial sums can win and some players with (slightly) higher initial sums can lose, as we saw from our previous results."
   ]
  },
  {
   "cell_type": "code",
   "execution_count": 17,
   "metadata": {},
   "outputs": [
    {
     "data": {
      "text/plain": [
       "array([[ 1.        ,  0.78096846],\n",
       "       [ 0.78096846,  1.        ]])"
      ]
     },
     "execution_count": 17,
     "metadata": {},
     "output_type": "execute_result"
    }
   ],
   "source": [
    "# Correlation between initial and final sums for winners\n",
    "np.corrcoef(win_init, win_scores)"
   ]
  },
  {
   "cell_type": "code",
   "execution_count": 18,
   "metadata": {},
   "outputs": [
    {
     "data": {
      "text/plain": [
       "array([[ 1.        ,  0.78096846],\n",
       "       [ 0.78096846,  1.        ]])"
      ]
     },
     "execution_count": 18,
     "metadata": {},
     "output_type": "execute_result"
    }
   ],
   "source": [
    "# Correlation between initial and final sums for losers\n",
    "np.corrcoef(lose_init, lose_scores)"
   ]
  }
 ],
 "metadata": {
  "anaconda-cloud": {},
  "kernelspec": {
   "display_name": "Python 3",
   "language": "python",
   "name": "python3"
  },
  "language_info": {
   "codemirror_mode": {
    "name": "ipython",
    "version": 3
   },
   "file_extension": ".py",
   "mimetype": "text/x-python",
   "name": "python",
   "nbconvert_exporter": "python",
   "pygments_lexer": "ipython3",
   "version": "3.7.3"
  }
 },
 "nbformat": 4,
 "nbformat_minor": 1
}
